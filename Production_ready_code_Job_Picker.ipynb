{
  "nbformat": 4,
  "nbformat_minor": 0,
  "metadata": {
    "colab": {
      "provenance": [],
      "authorship_tag": "ABX9TyOLFCeadibkduk8I6HrwNu6",
      "include_colab_link": true
    },
    "kernelspec": {
      "name": "python3",
      "display_name": "Python 3"
    },
    "language_info": {
      "name": "python"
    }
  },
  "cells": [
    {
      "cell_type": "markdown",
      "metadata": {
        "id": "view-in-github",
        "colab_type": "text"
      },
      "source": [
        "<a href=\"https://colab.research.google.com/github/fThAbhishek-Pandey/JobsTime-Job-Assistant/blob/main/Production_ready_code_Job_Picker.ipynb\" target=\"_parent\"><img src=\"https://colab.research.google.com/assets/colab-badge.svg\" alt=\"Open In Colab\"/></a>"
      ]
    },
    {
      "cell_type": "markdown",
      "source": [
        "#Production Ready Code -[Timesjobs](www.timesjobs.com/candidate/job-search.html?searchName=recentSearches&from=submit&luceneResultSize=25&txtKeywords=0DQT0Software%20Developer0DQT0&cboWorkExp1=0&postWeek=60&searchType=personalizedSearch&actualTxtKeywords=0DQT0Software%20Developer0DQT0&searchBy=0&rdoOperator=OR&txtLocation=India&gadLink=0DQT0Software%20Developer0DQT0,%20India,%20Entry%20Level) Job Assistant"
      ],
      "metadata": {
        "id": "RgachLHHVA7O"
      }
    },
    {
      "cell_type": "code",
      "source": [
        "import requests as rq\n",
        "from bs4 import BeautifulSoup\n",
        "import time\n",
        "known_skill= input(\"please provide your skill sets in comma separated way \")\n",
        "known_skill=known_skill.split(\",\")\n",
        "def scrap_jobs():\n",
        "    html_text =  rq.get(\"https://www.timesjobs.com/candidate/job-search.html?searchName=recentSearches&from=submit&luceneResultSize=25&txtKeywords=0DQT0Software%20Developer0DQT0&cboWorkExp1=0&postWeek=60&searchType=personalizedSearch&actualTxtKeywords=0DQT0Software%20Developer0DQT0&searchBy=0&rdoOperator=OR&txtLocation=India&gadLink=0DQT0Software%20Developer0DQT0,%20India,%20Entry%20Level\").text\n",
        "\n",
        "    soup = BeautifulSoup(html_text,'lxml')\n",
        "    compnany_name= soup.find(\"h3\" ,class_=\"joblist-comp-name\").text.replace(\" \",\"\").strip()\n",
        "    skills = soup.find(\"span\",class_=\"srp-skills\").text.replace(\" \",\"\").strip()\n",
        "    jobs= soup.find_all(\"li\",class_=\"clearfix job-bx wht-shd-bx\")\n",
        "    for job in jobs:\n",
        "      date_posted= job.find(\"span\", class_=\"sim-posted\").text.strip()\n",
        "      if \"few\" in date_posted: #custmize for recently\n",
        "        compnany_name= job.find(\"h3\" ,class_=\"joblist-comp-name\").text.replace(\" \",\"\").strip()\n",
        "        skill = job.find(\"span\",class_=\"srp-skills\").text.replace(\" \",\"\").strip()\n",
        "        jd = job.header.h2.a['href']\n",
        "        print(f'''\n",
        "    company Name : {compnany_name}\n",
        "    Skills Needed: {skill}\n",
        "    Apply Link   : {jd}\n",
        "    date posted  : {date_posted}\n",
        "    ''')\n",
        "if __name__==\"__main__\":\n",
        "  while True:\n",
        "   scrap_jobs()\n",
        "   print(\"waiting for five Seconds\")\n",
        "   time.sleep(5)\n"
      ],
      "metadata": {
        "id": "9-D6NiEdVXma"
      },
      "execution_count": null,
      "outputs": []
    }
  ]
}